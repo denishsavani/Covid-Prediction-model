{
  "cells": [
    {
      "cell_type": "markdown",
      "id": "2b6b8b38",
      "metadata": {
        "id": "2b6b8b38"
      },
      "source": [
        "# Symptoms Data Classification"
      ]
    },
    {
      "cell_type": "code",
      "execution_count": null,
      "id": "da87fb9e",
      "metadata": {
        "id": "da87fb9e",
        "outputId": "98203c99-c523-4ce8-9775-7506e8d7d818"
      },
      "outputs": [
        {
          "data": {
            "text/html": [
              "<div>\n",
              "<style scoped>\n",
              "    .dataframe tbody tr th:only-of-type {\n",
              "        vertical-align: middle;\n",
              "    }\n",
              "\n",
              "    .dataframe tbody tr th {\n",
              "        vertical-align: top;\n",
              "    }\n",
              "\n",
              "    .dataframe thead th {\n",
              "        text-align: right;\n",
              "    }\n",
              "</style>\n",
              "<table border=\"1\" class=\"dataframe\">\n",
              "  <thead>\n",
              "    <tr style=\"text-align: right;\">\n",
              "      <th></th>\n",
              "      <th>Age</th>\n",
              "      <th>Fever</th>\n",
              "      <th>Fatigue</th>\n",
              "      <th>Cough</th>\n",
              "      <th>Body_Ache</th>\n",
              "      <th>Sore_Throat</th>\n",
              "      <th>Breathing_Difficulties</th>\n",
              "      <th>Infected</th>\n",
              "    </tr>\n",
              "  </thead>\n",
              "  <tbody>\n",
              "    <tr>\n",
              "      <th>0</th>\n",
              "      <td>94</td>\n",
              "      <td>98.603205</td>\n",
              "      <td>1</td>\n",
              "      <td>0</td>\n",
              "      <td>1</td>\n",
              "      <td>1</td>\n",
              "      <td>0</td>\n",
              "      <td>1</td>\n",
              "    </tr>\n",
              "    <tr>\n",
              "      <th>1</th>\n",
              "      <td>1</td>\n",
              "      <td>102.519485</td>\n",
              "      <td>0</td>\n",
              "      <td>1</td>\n",
              "      <td>1</td>\n",
              "      <td>0</td>\n",
              "      <td>2</td>\n",
              "      <td>1</td>\n",
              "    </tr>\n",
              "    <tr>\n",
              "      <th>2</th>\n",
              "      <td>65</td>\n",
              "      <td>101.799096</td>\n",
              "      <td>1</td>\n",
              "      <td>1</td>\n",
              "      <td>1</td>\n",
              "      <td>2</td>\n",
              "      <td>1</td>\n",
              "      <td>1</td>\n",
              "    </tr>\n",
              "    <tr>\n",
              "      <th>3</th>\n",
              "      <td>28</td>\n",
              "      <td>103.863706</td>\n",
              "      <td>0</td>\n",
              "      <td>1</td>\n",
              "      <td>0</td>\n",
              "      <td>1</td>\n",
              "      <td>2</td>\n",
              "      <td>0</td>\n",
              "    </tr>\n",
              "    <tr>\n",
              "      <th>4</th>\n",
              "      <td>75</td>\n",
              "      <td>102.155484</td>\n",
              "      <td>1</td>\n",
              "      <td>0</td>\n",
              "      <td>0</td>\n",
              "      <td>0</td>\n",
              "      <td>0</td>\n",
              "      <td>0</td>\n",
              "    </tr>\n",
              "  </tbody>\n",
              "</table>\n",
              "</div>"
            ],
            "text/plain": [
              "   Age       Fever  Fatigue  Cough  Body_Ache  Sore_Throat  \\\n",
              "0   94   98.603205        1      0          1            1   \n",
              "1    1  102.519485        0      1          1            0   \n",
              "2   65  101.799096        1      1          1            2   \n",
              "3   28  103.863706        0      1          0            1   \n",
              "4   75  102.155484        1      0          0            0   \n",
              "\n",
              "   Breathing_Difficulties  Infected  \n",
              "0                       0         1  \n",
              "1                       2         1  \n",
              "2                       1         1  \n",
              "3                       2         0  \n",
              "4                       0         0  "
            ]
          },
          "execution_count": 1,
          "metadata": {},
          "output_type": "execute_result"
        }
      ],
      "source": [
        "#imports\n",
        "import numpy as np\n",
        "import pandas as pd\n",
        "import matplotlib.pyplot as plt\n",
        "import seaborn as sns\n",
        "\n",
        "#importing csv\n",
        "df = pd.read_csv('/Users/omkarsalokhe/Documents/Research_Lab/symptoms_data.csv')\n",
        "df.head()"
      ]
    },
    {
      "cell_type": "markdown",
      "id": "33f541a8",
      "metadata": {
        "id": "33f541a8"
      },
      "source": [
        "## Standardising Data"
      ]
    },
    {
      "cell_type": "code",
      "execution_count": null,
      "id": "6fd1ec7f",
      "metadata": {
        "id": "6fd1ec7f",
        "outputId": "2f0d9bcd-119a-4070-a10f-1f9655afc44e"
      },
      "outputs": [
        {
          "data": {
            "text/html": [
              "<div>\n",
              "<style scoped>\n",
              "    .dataframe tbody tr th:only-of-type {\n",
              "        vertical-align: middle;\n",
              "    }\n",
              "\n",
              "    .dataframe tbody tr th {\n",
              "        vertical-align: top;\n",
              "    }\n",
              "\n",
              "    .dataframe thead th {\n",
              "        text-align: right;\n",
              "    }\n",
              "</style>\n",
              "<table border=\"1\" class=\"dataframe\">\n",
              "  <thead>\n",
              "    <tr style=\"text-align: right;\">\n",
              "      <th></th>\n",
              "      <th>Age</th>\n",
              "      <th>Fever</th>\n",
              "      <th>Fatigue</th>\n",
              "      <th>Cough</th>\n",
              "      <th>Body_Ache</th>\n",
              "      <th>Sore_Throat</th>\n",
              "      <th>Breathing_Difficulties</th>\n",
              "      <th>Infected</th>\n",
              "    </tr>\n",
              "  </thead>\n",
              "  <tbody>\n",
              "    <tr>\n",
              "      <th>0</th>\n",
              "      <td>3</td>\n",
              "      <td>0</td>\n",
              "      <td>1</td>\n",
              "      <td>0</td>\n",
              "      <td>1</td>\n",
              "      <td>1</td>\n",
              "      <td>0</td>\n",
              "      <td>1</td>\n",
              "    </tr>\n",
              "    <tr>\n",
              "      <th>1</th>\n",
              "      <td>0</td>\n",
              "      <td>2</td>\n",
              "      <td>0</td>\n",
              "      <td>1</td>\n",
              "      <td>1</td>\n",
              "      <td>0</td>\n",
              "      <td>2</td>\n",
              "      <td>1</td>\n",
              "    </tr>\n",
              "    <tr>\n",
              "      <th>2</th>\n",
              "      <td>3</td>\n",
              "      <td>2</td>\n",
              "      <td>1</td>\n",
              "      <td>1</td>\n",
              "      <td>1</td>\n",
              "      <td>2</td>\n",
              "      <td>1</td>\n",
              "      <td>1</td>\n",
              "    </tr>\n",
              "    <tr>\n",
              "      <th>3</th>\n",
              "      <td>1</td>\n",
              "      <td>3</td>\n",
              "      <td>0</td>\n",
              "      <td>1</td>\n",
              "      <td>0</td>\n",
              "      <td>1</td>\n",
              "      <td>2</td>\n",
              "      <td>0</td>\n",
              "    </tr>\n",
              "    <tr>\n",
              "      <th>4</th>\n",
              "      <td>3</td>\n",
              "      <td>2</td>\n",
              "      <td>1</td>\n",
              "      <td>0</td>\n",
              "      <td>0</td>\n",
              "      <td>0</td>\n",
              "      <td>0</td>\n",
              "      <td>0</td>\n",
              "    </tr>\n",
              "  </tbody>\n",
              "</table>\n",
              "</div>"
            ],
            "text/plain": [
              "   Age  Fever  Fatigue  Cough  Body_Ache  Sore_Throat  Breathing_Difficulties  \\\n",
              "0    3      0        1      0          1            1                       0   \n",
              "1    0      2        0      1          1            0                       2   \n",
              "2    3      2        1      1          1            2                       1   \n",
              "3    1      3        0      1          0            1                       2   \n",
              "4    3      2        1      0          0            0                       0   \n",
              "\n",
              "   Infected  \n",
              "0         1  \n",
              "1         1  \n",
              "2         1  \n",
              "3         0  \n",
              "4         0  "
            ]
          },
          "execution_count": 2,
          "metadata": {},
          "output_type": "execute_result"
        }
      ],
      "source": [
        "#variables\n",
        "FEVER_NO = 98.0\n",
        "FEVER_LOW = 99.0\n",
        "FEVER_MID = 100.1\n",
        "FEVER_HIGH = 103.1\n",
        "FEVER_VERY_HIGH = 105.0\n",
        "\n",
        "\n",
        "#function to map Fever to Ordinal Values\n",
        "def map_fever_category(fever):\n",
        "    if FEVER_NO <= fever < FEVER_LOW:\n",
        "        return 0\n",
        "    elif FEVER_LOW <= fever < FEVER_MID:\n",
        "        return 1\n",
        "    elif FEVER_MID <= fever < FEVER_HIGH:\n",
        "        return 2\n",
        "    elif FEVER_HIGH <= fever <= FEVER_VERY_HIGH:\n",
        "        return 3\n",
        "    else:\n",
        "        raise ValueError(f\"Fever value {fever} is outside the expected range of [{FEVER_LOW}, {FEVER_VERY_HIGH}].\")\n",
        "\n",
        "#function to map Age to Ordinal Values\n",
        "def map_age_category(age):\n",
        "    if age < 21:\n",
        "        return 0\n",
        "    elif 21 <= age < 41:\n",
        "        return 1\n",
        "    elif 41 <= age < 61:\n",
        "        return 2\n",
        "    elif age >= 61:\n",
        "        return 3\n",
        "    else:\n",
        "        raise ValueError(f\"Age value {age} is outside the expected range.\")\n",
        "\n",
        "# create new column by applying the mapping function to the 'Fever' column\n",
        "df['Fever'] = df['Fever'].apply(map_fever_category)\n",
        "\n",
        "# create new column by applying the mapping function to the 'Age' column\n",
        "df['Age'] = df['Age'].apply(map_age_category)\n",
        "\n",
        "# print the head of the DataFrame\n",
        "df.head()"
      ]
    },
    {
      "cell_type": "markdown",
      "id": "22ee3b5d",
      "metadata": {
        "id": "22ee3b5d"
      },
      "source": [
        "### Dataframe Description"
      ]
    },
    {
      "cell_type": "code",
      "execution_count": null,
      "id": "98374016",
      "metadata": {
        "id": "98374016",
        "outputId": "30df984c-2352-4fcf-e011-c5172733e759"
      },
      "outputs": [
        {
          "name": "stdout",
          "output_type": "stream",
          "text": [
            "<class 'pandas.core.frame.DataFrame'>\n",
            "RangeIndex: 4000 entries, 0 to 3999\n",
            "Data columns (total 8 columns):\n",
            " #   Column                  Non-Null Count  Dtype\n",
            "---  ------                  --------------  -----\n",
            " 0   Age                     4000 non-null   int64\n",
            " 1   Fever                   4000 non-null   int64\n",
            " 2   Fatigue                 4000 non-null   int64\n",
            " 3   Cough                   4000 non-null   int64\n",
            " 4   Body_Ache               4000 non-null   int64\n",
            " 5   Sore_Throat             4000 non-null   int64\n",
            " 6   Breathing_Difficulties  4000 non-null   int64\n",
            " 7   Infected                4000 non-null   int64\n",
            "dtypes: int64(8)\n",
            "memory usage: 250.1 KB\n"
          ]
        }
      ],
      "source": [
        "df.info()"
      ]
    },
    {
      "cell_type": "code",
      "execution_count": null,
      "id": "2707f18d",
      "metadata": {
        "id": "2707f18d",
        "outputId": "e2b3533e-909a-4a46-80a7-ba6cd77ca26d"
      },
      "outputs": [
        {
          "data": {
            "image/png": "[encoded data removed]",
            "text/plain": [
              "<Figure size 1080x432 with 2 Axes>"
            ]
          },
          "metadata": {
            "needs_background": "light"
          },
          "output_type": "display_data"
        }
      ],
      "source": [
        "# create a figure with two subplots\n",
        "fig, axs = plt.subplots(ncols=2, figsize=(15, 6))\n",
        "\n",
        "# count the number of infected and not infected cases\n",
        "infected_counts = df['Infected'].value_counts()\n",
        "\n",
        "# set the colors for the bars\n",
        "colors = ['green', 'red']\n",
        "\n",
        "# create a bar plot\n",
        "axs[0].bar(infected_counts.index, infected_counts.values, color=colors)\n",
        "\n",
        "# set the title and labels\n",
        "axs[0].set_title('Infected vs Not Infected')\n",
        "axs[0].set_xlabel('Infected')\n",
        "axs[0].set_ylabel('Count')\n",
        "\n",
        "# set the tick labels\n",
        "axs[0].set_xticks([0, 1])\n",
        "axs[0].set_xticklabels(['Not Infected', 'Infected'])\n",
        "\n",
        "# group data by infected column\n",
        "temp_df = df.drop('Age', axis=1)\n",
        "grouped_data = temp_df.groupby('Infected').sum()\n",
        "\n",
        "# plot grouped bar charts\n",
        "grouped_data.plot(kind='bar', ax=axs[1])\n",
        "axs[1].set_title('Symptoms Distribution for Infected and Non-Infected Patients')\n",
        "axs[1].set_xlabel('Infected')\n",
        "axs[1].set_ylabel('Frequency Count')\n",
        "axs[1].set_xticks([0, 1])\n",
        "axs[1].set_xticklabels(['Not Infected', 'Infected'], rotation=0)\n",
        "axs[1].legend(loc='best')\n",
        "\n",
        "# adjust the layout to prevent overlapping of the legend\n",
        "plt.tight_layout()\n",
        "\n",
        "# display the plot\n",
        "plt.show()"
      ]
    },
    {
      "cell_type": "code",
      "execution_count": null,
      "id": "de682d7f",
      "metadata": {
        "id": "de682d7f",
        "outputId": "80116bf2-c639-487b-c348-a86261467000"
      },
      "outputs": [
        {
          "name": "stdout",
          "output_type": "stream",
          "text": [
            "Infected Rows:  2651\n",
            "\n",
            "Non-Infected Rows:  1349\n"
          ]
        }
      ],
      "source": [
        "# Total number of Infected vs Non-infected Data\n",
        "infected_counts = df['Infected'].value_counts()\n",
        "\n",
        "print(\"Infected Rows: \", infected_counts[1])\n",
        "print(\"\\nNon-Infected Rows: \", infected_counts[0])"
      ]
    },
    {
      "cell_type": "markdown",
      "id": "fe3baaaf",
      "metadata": {
        "id": "fe3baaaf"
      },
      "source": [
        "There is a data imbalance as the number of infected individuals (2651) is much larger than the number of non-infected individuals (1349). This kind of data imbalance is common in many real-world datasets and can lead to biased machine learning models. <br><br>\n",
        "<b>Methods to remove data imbalance</b>\n",
        "<ol>\n",
        "<li><b>Undersampling:</b> This involves reducing the size of the majority class (in this case, the infected individuals) to match the size of the minority class (in this case, the non-infected individuals). This can be done randomly or using more sophisticated techniques such as Tomek links or Edited Nearest Neighbors.</li>\n",
        "\n",
        "<li><b>Oversampling:</b> This involves increasing the size of the minority class to match the size of the majority class. This can be done by duplicating existing samples or generating new synthetic samples using techniques such as SMOTE (Synthetic Minority Over-sampling Technique).</li>\n",
        "\n",
        "<li><b>Cost-sensitive learning:</b> This involves modifying the machine learning algorithm to give more weight to the minority class during training.</li>\n",
        "</ol>   "
      ]
    },
    {
      "cell_type": "markdown",
      "id": "63977940",
      "metadata": {
        "id": "63977940"
      },
      "source": [
        "##### Undersampling"
      ]
    },
    {
      "cell_type": "code",
      "execution_count": null,
      "id": "38b0968b",
      "metadata": {
        "id": "38b0968b",
        "outputId": "1f4cf53e-1a54-468e-a657-c0ef97bfc5b6"
      },
      "outputs": [
        {
          "name": "stdout",
          "output_type": "stream",
          "text": [
            "Infected Rows after undersampling:\n",
            " 1349\n",
            "\n",
            "Non-Infected Rows after undersampling:\n",
            " 1349\n"
          ]
        }
      ],
      "source": [
        "from imblearn.under_sampling import NearMiss\n",
        "\n",
        "# Separating input features and target variable\n",
        "X = df.drop('Infected', axis=1)\n",
        "y = df['Infected']\n",
        "\n",
        "# Applying NearMiss\n",
        "nm = NearMiss()\n",
        "X_resampled, y_resampled = nm.fit_resample(X, y)\n",
        "\n",
        "# Counting number of infected and non-infected rows after undersampling\n",
        "infected_counts = y_resampled.value_counts()\n",
        "\n",
        "print(\"Infected Rows after undersampling:\\n\", infected_counts[1])\n",
        "print(\"\\nNon-Infected Rows after undersampling:\\n\", infected_counts[0])"
      ]
    },
    {
      "cell_type": "code",
      "execution_count": null,
      "id": "2ed9c8a9",
      "metadata": {
        "id": "2ed9c8a9",
        "outputId": "4b69add4-05ed-4519-bbe1-af59e88f61c8"
      },
      "outputs": [
        {
          "data": {
            "image/png": "[encoded data removed]",
            "text/plain": [
              "<Figure size 720x432 with 2 Axes>"
            ]
          },
          "metadata": {
            "needs_background": "light"
          },
          "output_type": "display_data"
        }
      ],
      "source": [
        "# create the figure and axes objects\n",
        "fig, axs = plt.subplots(ncols=2, figsize=(15, 6))\n",
        "colors = ['green', 'red']\n",
        "axs[0].bar(infected_counts.index, infected_counts.values, color=colors)\n",
        "axs[0].set_title('Infected vs Not Infected')\n",
        "axs[0].set_xlabel('Infected')\n",
        "axs[0].set_ylabel('Count')\n",
        "axs[0].set_xticks([0, 1])\n",
        "axs[0].set_xticklabels(['Not Infected', 'Infected'])\n",
        "\n",
        "# plot the second graph\n",
        "temp_df = df.drop('Age', axis=1)\n",
        "grouped_data = temp_df.groupby('Infected').sum()\n",
        "grouped_data.plot(kind='bar', ax=axs[1], figsize=(10, 6))\n",
        "axs[1].set_title('Symptoms Distribution for Infected and Non-Infected Patients')\n",
        "axs[1].set_xlabel('Infected')\n",
        "axs[1].set_ylabel('Frequency Count')\n",
        "axs[1].set_xticks([0, 1])\n",
        "axs[1].set_xticklabels(['Not Infected', 'Infected'])\n",
        "\n",
        "# adjust the layout\n",
        "plt.tight_layout()\n",
        "\n",
        "# display the plot\n",
        "plt.show()"
      ]
    },
    {
      "cell_type": "markdown",
      "id": "d92a5b2b",
      "metadata": {
        "id": "d92a5b2b"
      },
      "source": [
        "##### Oversampling"
      ]
    },
    {
      "cell_type": "code",
      "execution_count": null,
      "id": "e2aa8aed",
      "metadata": {
        "id": "e2aa8aed",
        "outputId": "573ab75d-02f5-4b29-db63-922d07120879"
      },
      "outputs": [
        {
          "name": "stdout",
          "output_type": "stream",
          "text": [
            "Infected Rows after oversampling:\n",
            " 2651\n",
            "\n",
            "Non-Infected Rows after oversampling:\n",
            " 2651\n"
          ]
        }
      ],
      "source": [
        "from imblearn.over_sampling import SMOTE\n",
        "\n",
        "# Separating input features and target variable\n",
        "X = df.drop('Infected', axis=1)\n",
        "y = df['Infected']\n",
        "\n",
        "# Applying SMOTE\n",
        "sm = SMOTE()\n",
        "X_resampled, y_resampled = sm.fit_resample(X, y)\n",
        "\n",
        "# Counting number of infected and non-infected rows after oversampling\n",
        "infected_counts = y_resampled.value_counts()\n",
        "\n",
        "print(\"Infected Rows after oversampling:\\n\", infected_counts[1])\n",
        "print(\"\\nNon-Infected Rows after oversampling:\\n\", infected_counts[0])"
      ]
    },
    {
      "cell_type": "code",
      "execution_count": null,
      "id": "90f85f40",
      "metadata": {
        "id": "90f85f40",
        "outputId": "ba8b9e8c-feb7-40a6-973d-a116c1ee0ca9"
      },
      "outputs": [
        {
          "data": {
            "image/png": "[encoded data removed]",
            "text/plain": [
              "<Figure size 720x432 with 2 Axes>"
            ]
          },
          "metadata": {
            "needs_background": "light"
          },
          "output_type": "display_data"
        }
      ],
      "source": [
        "# create the figure and axes objects\n",
        "fig, axs = plt.subplots(ncols=2, figsize=(15, 6))\n",
        "colors = ['green', 'red']\n",
        "axs[0].bar(infected_counts.index, infected_counts.values, color=colors)\n",
        "axs[0].set_title('Infected vs Not Infected')\n",
        "axs[0].set_xlabel('Infected')\n",
        "axs[0].set_ylabel('Count')\n",
        "axs[0].set_xticks([0, 1])\n",
        "axs[0].set_xticklabels(['Not Infected', 'Infected'])\n",
        "\n",
        "# plot the second graph\n",
        "temp_df = df.drop('Age', axis=1)\n",
        "grouped_data = temp_df.groupby('Infected').sum()\n",
        "grouped_data.plot(kind='bar', ax=axs[1], figsize=(10, 6))\n",
        "axs[1].set_title('Symptoms Distribution for Infected and Non-Infected Patients')\n",
        "axs[1].set_xlabel('Infected')\n",
        "axs[1].set_ylabel('Frequency Count')\n",
        "axs[1].set_xticks([0, 1])\n",
        "axs[1].set_xticklabels(['Not Infected', 'Infected'])\n",
        "\n",
        "# adjust the layout\n",
        "plt.tight_layout()\n",
        "\n",
        "# display the plot\n",
        "plt.show()"
      ]
    },
    {
      "cell_type": "markdown",
      "id": "0448c5ba",
      "metadata": {
        "id": "0448c5ba"
      },
      "source": [
        "##### Cost Sensitive Learning"
      ]
    },
    {
      "cell_type": "code",
      "execution_count": null,
      "id": "573160bd",
      "metadata": {
        "id": "573160bd",
        "outputId": "c841f70b-f9c8-4aef-93bc-10bf1f7e8ee6"
      },
      "outputs": [
        {
          "name": "stdout",
          "output_type": "stream",
          "text": [
            "Class weights: {0: 0.0007412898443291327, 1: 0.0003772161448509996}\n"
          ]
        }
      ],
      "source": [
        "# Separating input features and target variable\n",
        "X = df.drop('Infected', axis=1)\n",
        "y = df['Infected']\n",
        "\n",
        "# Calculating class weights using inverse frequency weighting\n",
        "class_counts = np.bincount(y)\n",
        "class_weights = {0: 1.0 / class_counts[0], 1: 1.0 / class_counts[1]}\n",
        "\n",
        "# Printing class weights\n",
        "print(\"Class weights:\", class_weights)"
      ]
    },
    {
      "cell_type": "markdown",
      "id": "84f82ebb",
      "metadata": {
        "id": "84f82ebb"
      },
      "source": [
        "## EDA"
      ]
    },
    {
      "cell_type": "markdown",
      "id": "a843fdcc",
      "metadata": {
        "id": "a843fdcc"
      },
      "source": [
        "#### Symptoms Distribution for Infected and Non-Infected Patients"
      ]
    },
    {
      "cell_type": "code",
      "execution_count": null,
      "id": "bb24095e",
      "metadata": {
        "id": "bb24095e",
        "outputId": "548b03ed-93f9-4f59-faef-0246d483863c"
      },
      "outputs": [
        {
          "data": {
            "image/png": "[encoded data removed]",
            "text/plain": [
              "<Figure size 1080x720 with 6 Axes>"
            ]
          },
          "metadata": {
            "needs_background": "light"
          },
          "output_type": "display_data"
        }
      ],
      "source": [
        "# create temp_df by dropping 'Age' column\n",
        "temp_df = pd.concat([X_resampled, y_resampled], axis=1).drop('Age', axis=1)\n",
        "\n",
        "# set color scheme for each symptom\n",
        "colors = {\n",
        "    'Fever': ['#008000', '#ffbf00', '#ff8c00', '#ff0000'],\n",
        "    'Fatigue': ['#008000', '#ff0000'],\n",
        "    'Cough': ['#008000', '#ff0000'],\n",
        "    'Body_Ache': ['#008000', '#ff0000'],\n",
        "    'Sore_Throat': ['#008000', '#ff8c00', '#ff0000'],\n",
        "    'Breathing_Difficulties': ['#008000', '#ff8c00', '#ff0000']\n",
        "}\n",
        "\n",
        "# set legend labels for each symptom\n",
        "legend_labels = {\n",
        "    'Fever': ['No', 'Low', 'Mild', 'High'],\n",
        "    'Fatigue': ['No', 'Yes'],\n",
        "    'Cough': ['No', 'Yes'],\n",
        "    'Body_Ache': ['No', 'Yes'],\n",
        "    'Sore_Throat': ['No', 'Mild', 'High'],\n",
        "    'Breathing_Difficulties': ['No', 'Mild', 'High']\n",
        "}\n",
        "\n",
        "# plot stacked bar charts for each symptom\n",
        "fig, axs = plt.subplots(nrows=2, ncols=3, figsize=(15, 10))\n",
        "for i, symptom in enumerate(temp_df.columns[:-1]):\n",
        "    row = i // 3\n",
        "    col = i % 3\n",
        "    data = temp_df.groupby('Infected')[symptom].value_counts().unstack()\n",
        "    data.plot(kind='bar', stacked=True, color=colors[symptom], ax=axs[row][col])\n",
        "    axs[row][col].set_title(f'{symptom} Distribution')\n",
        "    axs[row][col].set_xlabel('Infected')\n",
        "    axs[row][col].set_ylabel('Frequency Count')\n",
        "    axs[row][col].set_xticklabels(['Not Infected', 'Infected'],rotation=0)\n",
        "    axs[row][col].legend(labels=legend_labels[symptom], loc='best')\n",
        "\n",
        "fig.suptitle(\"Symptoms Distribution for Infected and Non-Infected Patients (After SMOTE Oversampling)\", fontsize=20)\n",
        "plt.tight_layout()\n",
        "plt.show()"
      ]
    },
    {
      "cell_type": "markdown",
      "id": "443d9645",
      "metadata": {
        "id": "443d9645"
      },
      "source": [
        "## Testing Classification Algorithms"
      ]
    },
    {
      "cell_type": "markdown",
      "id": "23c9b418",
      "metadata": {
        "id": "23c9b418"
      },
      "source": [
        "### Logistic Regression"
      ]
    },
    {
      "cell_type": "code",
      "execution_count": null,
      "id": "28d38bd7",
      "metadata": {
        "id": "28d38bd7",
        "outputId": "3bc74d5a-c7d0-45cf-a864-c05b934abe0a"
      },
      "outputs": [
        {
          "name": "stdout",
          "output_type": "stream",
          "text": [
            "              precision    recall  f1-score   support\n",
            "\n",
            "           0       0.80      0.83      0.81       806\n",
            "           1       0.81      0.78      0.80       785\n",
            "\n",
            "    accuracy                           0.80      1591\n",
            "   macro avg       0.80      0.80      0.80      1591\n",
            "weighted avg       0.80      0.80      0.80      1591\n",
            "\n"
          ]
        }
      ],
      "source": [
        "from sklearn.linear_model import LogisticRegression\n",
        "from sklearn.model_selection import train_test_split\n",
        "from sklearn.metrics import classification_report\n",
        "\n",
        "# Splitting the data into train and test sets\n",
        "X_train, X_test, y_train, y_test = train_test_split(X_resampled, y_resampled, test_size=0.3, random_state=42)\n",
        "\n",
        "# Fitting the logistic regression model\n",
        "log_reg = LogisticRegression()\n",
        "log_reg.fit(X_train, y_train)\n",
        "\n",
        "# Predicting on the test set\n",
        "y_pred = log_reg.predict(X_test)\n",
        "\n",
        "# Generating the classification report\n",
        "print(classification_report(y_test, y_pred))"
      ]
    },
    {
      "cell_type": "markdown",
      "id": "c7d87939",
      "metadata": {
        "id": "c7d87939"
      },
      "source": [
        "<b>Precision:</b> The model correctly identified 80% of the actual negative cases and 80% of the actual positive cases.<br>\n",
        "<b>Recall:</b> The model correctly identified 80% of the actual negative cases and 79% of the actual positive cases.<br>\n",
        "<b>Accuracy:</b> The accuracy is the ratio of correct predictions to the total number of predictions. In this case, the accuracy of the model is 0.80 or 80%.<br>\n",
        "\n",
        "Overall, the model has an <b>accuracy of 0.80</b>, which means it <b>correctly predicted 80% of the cases</b>. The precision, recall, and F1-score for both classes (infected and non-infected) are around 80%, indicating that the model is performing well on the balanced data. The macro avg and weighted avg scores are also around 80%, which is good."
      ]
    },
    {
      "cell_type": "code",
      "execution_count": null,
      "id": "ccf2e4b4",
      "metadata": {
        "id": "ccf2e4b4",
        "outputId": "3f22c139-1cde-4f90-ff75-2e298c92d567"
      },
      "outputs": [
        {
          "name": "stdout",
          "output_type": "stream",
          "text": [
            "      Actual  Predicted Probability\n",
            "3659       1               0.649574\n",
            "4112       0               0.494051\n",
            "3801       1               0.722257\n",
            "1862       1               0.926379\n",
            "5290       0               0.272592\n"
          ]
        }
      ],
      "source": [
        "# Predict on the test set\n",
        "y_pred = log_reg.predict(X_test)\n",
        "\n",
        "# Get the predicted probabilities for the test set\n",
        "y_pred_proba = log_reg.predict_proba(X_test)[:, 1]\n",
        "\n",
        "# Plot the table for the test data set with the actual value of infected and predicted probability of infected\n",
        "results = pd.DataFrame({'Actual': y_test, 'Predicted Probability': y_pred_proba})\n",
        "print(results.head())\n"
      ]
    },
    {
      "cell_type": "markdown",
      "id": "338c4373",
      "metadata": {
        "id": "338c4373"
      },
      "source": [
        "<b>The features that have the most significant impact on the predicted probability of infection.</b>"
      ]
    },
    {
      "cell_type": "code",
      "execution_count": null,
      "id": "c4445aba",
      "metadata": {
        "id": "c4445aba",
        "outputId": "0c992417-e00a-44c2-9d52-332de2bda393"
      },
      "outputs": [
        {
          "name": "stdout",
          "output_type": "stream",
          "text": [
            "                  feature      coef\n",
            "3                   Cough  1.561872\n",
            "4               Body_Ache  1.353021\n",
            "2                 Fatigue  1.243916\n",
            "5             Sore_Throat  0.985862\n",
            "0                     Age  0.917364\n",
            "6  Breathing_Difficulties  0.887067\n",
            "1                   Fever  0.204100\n"
          ]
        }
      ],
      "source": [
        "# Get the coefficients of the logistic regression model\n",
        "coef = log_reg.coef_[0]\n",
        "\n",
        "# Get the absolute value of the coefficients\n",
        "abs_coef = np.abs(coef)\n",
        "\n",
        "# Get the names of the features\n",
        "feature_names = X.columns\n",
        "\n",
        "# Create a dataframe with the feature names and their absolute coefficients\n",
        "df_coef = pd.DataFrame({'feature': feature_names, 'coef': abs_coef})\n",
        "\n",
        "# Sort the dataframe by absolute coefficient in descending order\n",
        "df_coef = df_coef.sort_values('coef', ascending=False)\n",
        "\n",
        "# Print the top 5 features with the highest absolute coefficients\n",
        "print(df_coef)\n"
      ]
    },
    {
      "cell_type": "markdown",
      "id": "752b594c",
      "metadata": {
        "id": "752b594c"
      },
      "source": [
        "<b>Testing the model for</b><br>\n",
        "Age: 21 - 41<br>\n",
        "Fever: High<br>\n",
        "Fatigue: Yes<br>\n",
        "Cough: Yes<br>\n",
        "Body_Ache: No\n",
        "Sore_Throat: Yes<br>\n",
        "Breathing_Difficulties: Moderate"
      ]
    },
    {
      "cell_type": "code",
      "execution_count": null,
      "id": "19c9ab0f",
      "metadata": {
        "id": "19c9ab0f",
        "outputId": "8bbc8c0f-aa00-43c6-8fdc-2b9a881381b0"
      },
      "outputs": [
        {
          "name": "stdout",
          "output_type": "stream",
          "text": [
            "The predicted probability of being infected is: 66.50%\n"
          ]
        }
      ],
      "source": [
        "# create a new DataFrame with the input values\n",
        "input_data = pd.DataFrame([[1, 3, 1, 1, 0, 1, 1]], columns=df.columns[:-1])\n",
        "\n",
        "# use the trained model to predict the probability of infection\n",
        "predicted_probabilities = log_reg.predict_proba(input_data)\n",
        "predicted_probabilities = predicted_probabilities[0][1]\n",
        "print('The predicted probability of being infected is: %.2f%%' % (predicted_probabilities * 100))"
      ]
    },
    {
      "cell_type": "markdown",
      "id": "2ce5375c",
      "metadata": {
        "id": "2ce5375c"
      },
      "source": [
        "<b> Checking the ROC of Model</b>"
      ]
    },
    {
      "cell_type": "code",
      "execution_count": null,
      "id": "7c56d771",
      "metadata": {
        "id": "7c56d771",
        "outputId": "91f7c440-e0cf-4fbc-d1d7-447bfc74fb42"
      },
      "outputs": [
        {
          "data": {
            "image/png": "[encoded data removed]",
            "text/plain": [
              "<Figure size 432x288 with 1 Axes>"
            ]
          },
          "metadata": {
            "needs_background": "light"
          },
          "output_type": "display_data"
        }
      ],
      "source": [
        "from sklearn.metrics import roc_curve, roc_auc_score\n",
        "\n",
        "# Get predicted probabilities for the test set\n",
        "y_pred_proba = log_reg.predict_proba(X_test)[:, 1]\n",
        "\n",
        "# Compute ROC curve and ROC area for each class\n",
        "fpr, tpr, thresholds = roc_curve(y_test, y_pred_proba)\n",
        "roc_auc = roc_auc_score(y_test, y_pred_proba)\n",
        "\n",
        "# Plot ROC curve\n",
        "plt.plot(fpr, tpr, color='blue', lw=2, label='ROC curve (area = %0.2f)' % roc_auc)\n",
        "plt.plot([0, 1], [0, 1], color='grey', lw=2, linestyle='--')\n",
        "plt.xlim([0.0, 1.0])\n",
        "plt.ylim([0.0, 1.05])\n",
        "plt.xlabel('False Positive Rate')\n",
        "plt.ylabel('True Positive Rate')\n",
        "plt.title('Receiver operating characteristic (ROC) Curve')\n",
        "plt.legend(loc=\"lower right\")\n",
        "plt.show()\n"
      ]
    },
    {
      "cell_type": "markdown",
      "id": "ac073c87",
      "metadata": {
        "id": "ac073c87"
      },
      "source": [
        "## Random Forest"
      ]
    },
    {
      "cell_type": "code",
      "execution_count": null,
      "id": "f012ca9d",
      "metadata": {
        "id": "f012ca9d",
        "outputId": "d6b66c09-0303-4f39-8587-9df4d7dc0151"
      },
      "outputs": [
        {
          "name": "stdout",
          "output_type": "stream",
          "text": [
            "              precision    recall  f1-score   support\n",
            "\n",
            "           0       0.81      0.83      0.82       806\n",
            "           1       0.82      0.80      0.81       785\n",
            "\n",
            "    accuracy                           0.82      1591\n",
            "   macro avg       0.82      0.82      0.82      1591\n",
            "weighted avg       0.82      0.82      0.82      1591\n",
            "\n"
          ]
        }
      ],
      "source": [
        "from sklearn.ensemble import RandomForestClassifier\n",
        "from sklearn.metrics import classification_report\n",
        "from sklearn.model_selection import train_test_split\n",
        "\n",
        "# Splitting the data into training and testing sets\n",
        "X_train, X_test, y_train, y_test = train_test_split(X_resampled, y_resampled, test_size=0.3, random_state=42)\n",
        "\n",
        "# Creating a Random Forest classifier with 100 trees\n",
        "rf = RandomForestClassifier(n_estimators=100, random_state=42)\n",
        "\n",
        "# Fitting the model on the training data\n",
        "rf.fit(X_train, y_train)\n",
        "\n",
        "# Predicting on the test data\n",
        "y_pred = rf.predict(X_test)\n",
        "\n",
        "# Generating the classification report\n",
        "print(classification_report(y_test, y_pred))"
      ]
    },
    {
      "cell_type": "markdown",
      "id": "abaf094c",
      "metadata": {
        "id": "abaf094c"
      },
      "source": [
        "<b>Precision:</b> The model correctly identified 83% of the actual negative cases and 83% of the actual positive cases.<br>\n",
        "<b>Recall:</b> The model correctly identified 82% of the actual negative cases and 82% of the actual positive cases.<br>\n",
        "<b>Accuracy:</b> The accuracy is the ratio of correct predictions to the total number of predictions. In this case, the accuracy of the model is 0.83 or 83%.<br>\n",
        "\n",
        "Overall, the model has an <b>accuracy of 0.83</b>, which means it <b>correctly predicted 83% of the cases</b>. The precision, recall, and F1-score for both classes (infected and non-infected) are around 83%, indicating that the model is performing well on the balanced data. The macro avg and weighted avg scores are also around 83%, which is good."
      ]
    },
    {
      "cell_type": "code",
      "execution_count": null,
      "id": "11e39b42",
      "metadata": {
        "id": "11e39b42",
        "outputId": "fb0509e5-eb76-49ca-e1b8-40b3cb7f8744"
      },
      "outputs": [
        {
          "name": "stdout",
          "output_type": "stream",
          "text": [
            "      Actual  Predicted Probability\n",
            "3659       1               0.462107\n",
            "4112       0               0.602875\n",
            "3801       1               0.930000\n",
            "1862       1               0.996667\n",
            "5290       0               0.000000\n"
          ]
        }
      ],
      "source": [
        "# Predict on the test set\n",
        "y_pred = rf.predict(X_test)\n",
        "\n",
        "# Get the predicted probabilities for the test set\n",
        "y_pred_proba = rf.predict_proba(X_test)[:, 1]\n",
        "\n",
        "# Plot the table for the test data set with the actual value of infected and predicted probability of infected\n",
        "results = pd.DataFrame({'Actual': y_test, 'Predicted Probability': y_pred_proba})\n",
        "print(results.head())"
      ]
    },
    {
      "cell_type": "markdown",
      "id": "4162667e",
      "metadata": {
        "id": "4162667e"
      },
      "source": [
        "<b>Testing the model for</b><br>\n",
        "Age: 21 - 41<br>\n",
        "Fever: High<br>\n",
        "Fatigue: Yes<br>\n",
        "Cough: No<br>\n",
        "Body_Ache: No\n",
        "Sore_Throat: Moderate<br>\n",
        "Breathing_Difficulties: No"
      ]
    },
    {
      "cell_type": "code",
      "execution_count": null,
      "id": "ba235575",
      "metadata": {
        "id": "ba235575",
        "outputId": "5d752449-3f13-413b-f145-d4becd2fba85"
      },
      "outputs": [
        {
          "name": "stdout",
          "output_type": "stream",
          "text": [
            "The predicted probability of being infected is: 27.35%\n"
          ]
        }
      ],
      "source": [
        "input_data = [[1, 3, 1, 0, 0, 1, 0]]\n",
        "input_df = pd.DataFrame(input_data, columns=['Age', 'Fever', 'Fatigue', 'Cough', 'Body_Ache', 'Sore_Throat', 'Breathing_Difficulties'])\n",
        "\n",
        "predicted_probabilities = rf.predict_proba(input_df)[:,1]\n",
        "\n",
        "print('The predicted probability of being infected is: %.2f%%' % (predicted_probabilities * 100))"
      ]
    },
    {
      "cell_type": "markdown",
      "id": "e9de42da",
      "metadata": {
        "id": "e9de42da"
      },
      "source": [
        "<b> Checking the ROC of the Model </b>"
      ]
    },
    {
      "cell_type": "code",
      "execution_count": null,
      "id": "f6750edd",
      "metadata": {
        "id": "f6750edd",
        "outputId": "af78d800-6cbb-4ebc-9caa-65b1ec083c9d"
      },
      "outputs": [
        {
          "data": {
            "image/png": "[encoded data removed]",
            "text/plain": [
              "<Figure size 432x288 with 1 Axes>"
            ]
          },
          "metadata": {
            "needs_background": "light"
          },
          "output_type": "display_data"
        }
      ],
      "source": [
        "from sklearn.metrics import roc_curve, roc_auc_score\n",
        "\n",
        "# Get predicted probabilities for the test set\n",
        "y_pred_proba = rf.predict_proba(X_test)[:, 1]\n",
        "\n",
        "# Compute ROC curve and ROC area for each class\n",
        "fpr, tpr, thresholds = roc_curve(y_test, y_pred_proba)\n",
        "roc_auc = roc_auc_score(y_test, y_pred_proba)\n",
        "\n",
        "# Plot ROC curve\n",
        "plt.plot(fpr, tpr, color='blue', lw=2, label='ROC curve (area = %0.2f)' % roc_auc)\n",
        "plt.plot([0, 1], [0, 1], color='grey', lw=2, linestyle='--')\n",
        "plt.xlim([0.0, 1.0])\n",
        "plt.ylim([0.0, 1.05])\n",
        "plt.xlabel('False Positive Rate')\n",
        "plt.ylabel('True Positive Rate')\n",
        "plt.title('Receiver operating characteristic (ROC) Curve')\n",
        "plt.legend(loc=\"lower right\")\n",
        "plt.show()\n"
      ]
    },
    {
      "cell_type": "markdown",
      "id": "a8559cb8",
      "metadata": {
        "id": "a8559cb8"
      },
      "source": [
        "## Neural Networks"
      ]
    },
    {
      "cell_type": "code",
      "execution_count": null,
      "id": "206a2f4b",
      "metadata": {
        "id": "206a2f4b"
      },
      "outputs": [],
      "source": [
        "# import tensorflow as tf\n",
        "# from sklearn.metrics import classification_report\n",
        "# from sklearn.model_selection import train_test_split\n",
        "\n",
        "# # Splitting the data into training and testing sets\n",
        "# X_train, X_test, y_train, y_test = train_test_split(X_resampled, y_resampled, test_size=0.3, random_state=42)\n",
        "\n",
        "# # Creating a neural network model\n",
        "# nn_model = tf.keras.models.Sequential([\n",
        "#     tf.keras.layers.Dense(64, input_dim=X_train.shape[1], activation='relu'),\n",
        "#     tf.keras.layers.Dense(32, activation='relu'),\n",
        "#     tf.keras.layers.Dense(1, activation='sigmoid')\n",
        "# ])\n",
        "\n",
        "# # Compiling the model\n",
        "# nn_model.compile(loss='binary_crossentropy', optimizer='adam', metrics=['accuracy'])\n",
        "\n",
        "# # Fitting the model on the training data\n",
        "# nn_model.fit(X_train, y_train, epochs=100, batch_size=32, verbose=0)\n",
        "\n",
        "# # Predicting on the test data\n",
        "# y_pred = model.predict(X_test)\n",
        "\n",
        "# # Generating the classification report\n",
        "# y_pred_classes = (y_pred > 0.5).astype(int)\n",
        "# print(classification_report(y_test, y_pred_classes))"
      ]
    },
    {
      "cell_type": "code",
      "execution_count": null,
      "id": "93848b3b",
      "metadata": {
        "id": "93848b3b"
      },
      "outputs": [],
      "source": []
    },
    {
      "cell_type": "code",
      "execution_count": null,
      "id": "3bde27eb",
      "metadata": {
        "id": "3bde27eb"
      },
      "outputs": [],
      "source": []
    },
    {
      "cell_type": "code",
      "execution_count": null,
      "id": "f24e98ad",
      "metadata": {
        "id": "f24e98ad"
      },
      "outputs": [],
      "source": []
    }
  ],
  "metadata": {
    "kernelspec": {
      "display_name": "Python 3 (ipykernel)",
      "language": "python",
      "name": "python3"
    },
    "language_info": {
      "codemirror_mode": {
        "name": "ipython",
        "version": 3
      },
      "file_extension": ".py",
      "mimetype": "text/x-python",
      "name": "python",
      "nbconvert_exporter": "python",
      "pygments_lexer": "ipython3",
      "version": "3.9.7"
    },
    "colab": {
      "provenance": []
    }
  },
  "nbformat": 4,
  "nbformat_minor": 5
}